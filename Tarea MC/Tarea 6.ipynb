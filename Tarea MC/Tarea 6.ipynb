{
 "cells": [
  {
   "cell_type": "code",
   "execution_count": 1,
   "metadata": {},
   "outputs": [],
   "source": [
    "from scipy import random\n",
    "import numpy as np\n",
    "import matplotlib.pyplot as plt\n",
    "from scipy.integrate import quad"
   ]
  },
  {
   "cell_type": "markdown",
   "metadata": {},
   "source": [
    "La f.d.p. a usar es la distribución uniforme ya que es fácil de manipular y crea un análogo al ejemplo visto en clase de encerrar nuestra figura irregular(función) en una conocida(rectángulo)\n",
    "\n",
    "$f_X (x) = \\{ \\begin{array}{lcc}\n",
    "             \\frac{1}{b-a}&   si  & a \\leq x \\geq b \\\\ \n",
    "             \\\\0 &   si  & otro caso\\\\\n",
    "             \\end{array}$\n",
    "\n",
    "Teniendo la función densidad de probabilidad, procedemos a definir la integral por el método MC.\n",
    "\n",
    "$E=\\frac{1}{N}\\sum_{i=1}^{N}\\frac{F(x)}{f(x)}$ \n",
    "\n",
    "$ =\\frac{(b-a)}{N}\\sum_{i=1}^{N}F(x)$ \n"
   ]
  },
  {
   "cell_type": "code",
   "execution_count": 2,
   "metadata": {},
   "outputs": [],
   "source": [
    "#La f.d.p. a usar\n",
    "\n",
    "def p(a,b):\n",
    "    return 1/(b-a)\n",
    "\n",
    "N=1000 #número de puntos "
   ]
  },
  {
   "cell_type": "markdown",
   "metadata": {},
   "source": [
    "$\\int_{0}^{10} (x^2 - 4)dx$"
   ]
  },
  {
   "cell_type": "code",
   "execution_count": 3,
   "metadata": {},
   "outputs": [],
   "source": [
    "a=0\n",
    "b=10\n",
    "\n",
    "#Definimos la función a integrar x^2 -4\n",
    "\n",
    "def cua(x):\n",
    "    return (x**2 -4)"
   ]
  },
  {
   "cell_type": "code",
   "execution_count": 4,
   "metadata": {},
   "outputs": [],
   "source": [
    "suma=0\n",
    "suma2=0\n",
    "\n",
    "for i in range(N):\n",
    "    punto = random.uniform(a,b)#punto pseudoaleatorio entre a y b\n",
    "    suma += cua(punto)/p(a,b) \n",
    "    suma2 += (cua(punto)/p(a,b))**2\n",
    "E=suma/N # Valor de la integral por MC\n",
    "\n",
    "sigma =suma2/N - E**2 #varianza de la muestra"
   ]
  },
  {
   "cell_type": "code",
   "execution_count": 5,
   "metadata": {},
   "outputs": [
    {
     "name": "stdout",
     "output_type": "stream",
     "text": [
      "El valor de la integral por el MC 295.89 +- 95544.15\n",
      "El valor de la integral numerica 293.33\n"
     ]
    }
   ],
   "source": [
    "I = quad(cua, 0, 10) # Valor numerico de la integral\n",
    "\n",
    "print(\"El valor de la integral por el MC %5.2f +- %5.2f\"%(E,sigma))\n",
    "print(\"El valor de la integral numerica %5.2f\"%I[0])"
   ]
  },
  {
   "cell_type": "markdown",
   "metadata": {},
   "source": [
    "$\\int_{0.5}^{1.7} sin^2(x)dx$"
   ]
  },
  {
   "cell_type": "code",
   "execution_count": 6,
   "metadata": {},
   "outputs": [],
   "source": [
    "def sinc(x):\n",
    "    return np.sin(x)**2 "
   ]
  },
  {
   "cell_type": "code",
   "execution_count": 7,
   "metadata": {},
   "outputs": [],
   "source": [
    "a = 0.5\n",
    "b= 1.7\n",
    "\n",
    "\n",
    "suma=0\n",
    "suma2=0\n",
    "\n",
    "for i in range(N):\n",
    "    punto = random.uniform(a,b)#punto pseudoaleatorio entre a y b\n",
    "    suma += sinc(punto)/p(a,b)\n",
    "    suma2 += (sinc(punto)/p(a,b))**2\n",
    "E=suma/N # Valor de la integral por MC\n",
    "\n",
    "sigma =suma2/N - E**2 #varianza de la muestra"
   ]
  },
  {
   "cell_type": "code",
   "execution_count": 8,
   "metadata": {},
   "outputs": [
    {
     "name": "stdout",
     "output_type": "stream",
     "text": [
      "El valor de la integral por el MC  0.87 +-  0.09\n",
      "El valor de la integral numerica  0.87\n"
     ]
    }
   ],
   "source": [
    "I = quad(sinc, 0.5, 1.7) # Valor numerico de la integral\n",
    "\n",
    "print(\"El valor de la integral por el MC %5.2f +- %5.2f\"%(E,sigma))\n",
    "print(\"El valor de la integral numerica %5.2f\"%I[0])"
   ]
  },
  {
   "cell_type": "markdown",
   "metadata": {},
   "source": [
    "Se observa que la f.d.p. usada no es la optima para hallar el valor de la varianza de la muestra la cual tiene un rango muy grande pero al tomar el error relativo con la integral numérica el resultado es mejor"
   ]
  }
 ],
 "metadata": {
  "kernelspec": {
   "display_name": "Python 3",
   "language": "python",
   "name": "python3"
  },
  "language_info": {
   "codemirror_mode": {
    "name": "ipython",
    "version": 3
   },
   "file_extension": ".py",
   "mimetype": "text/x-python",
   "name": "python",
   "nbconvert_exporter": "python",
   "pygments_lexer": "ipython3",
   "version": "3.7.6"
  }
 },
 "nbformat": 4,
 "nbformat_minor": 4
}
